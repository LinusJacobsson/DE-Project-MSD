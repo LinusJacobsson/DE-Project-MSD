{
 "cells": [
  {
   "cell_type": "code",
   "execution_count": null,
   "id": "ea7a5291",
   "metadata": {},
   "outputs": [],
   "source": [
    "from pyspark.sql import SparkSession \n",
    "\n",
    " \n",
    "spark_session = SparkSession.builder\\\n",
    "        .master(\"spark://host-192-168-2-139:7077\") \\\n",
    "        .appName(\"Linus app\")\\\n",
    "        .config(\"spark.dynamicAllocation.enabled\", True)\\\n",
    "        .config(\"spark.dynamicAllocation.shuffleTracking.enabled\",True)\\\n",
    "        .config(\"spark.shuffle.service.enabled\", False)\\\n",
    "        .config(\"spark.dynamicAllocation.executorIdleTimeout\",\"30s\")\\\n",
    "        .config(\"spark.executor.memory\", \"2g\")\\\n",
    "        .config(\"spark.cores.max\", 8)\\\n",
    "        .getOrCreate()"
   ]
  },
  {
   "cell_type": "code",
   "execution_count": null,
   "id": "f64aac2e",
   "metadata": {},
   "outputs": [],
   "source": [
    "\n",
    "sc=spark_session.sparkContext\n",
    "rdd=sc.textFile(\"./musicdata\").map(lambda x: x.split(\",\"))"
   ]
  },
  {
   "cell_type": "code",
   "execution_count": null,
   "id": "dd6fc858",
   "metadata": {},
   "outputs": [],
   "source": [
    "from pyspark.mllib.regression import LabeledPoint\n",
    "from pyspark.mllib.classification import NaiveBayes, NaiveBayesModel\n",
    "from pyspark.mllib.evaluation import MulticlassMetrics\n",
    "import numpy\n",
    "from pyspark.mllib.linalg import Vectors"
   ]
  },
  {
   "cell_type": "code",
   "execution_count": null,
   "id": "eab50567",
   "metadata": {},
   "outputs": [],
   "source": [
    "print(\"im hesre\")\n",
    "labeled_data_rdd = rdd.map(lambda x: [float(x[1]),[float(i.strip()) for i in x[2:-1]]+float[]])\n",
    "print(\"im hesre\")\n",
    "labeled_data_rdd = labeled_data_rdd.map(lambda x: LabeledPoint(x[0], Vectors.dense(x[1])))\n",
    "train_data_rdd, test_data_rdd = labeled_data_rdd.randomSplit([0.7, 0.3], seed=123)\n",
    "print(\"im hesre\")\n",
    "nb_model = NaiveBayes.train(train_data_rdd)\n",
    "print(\"im hesre\")\n",
    "predictions_rdd = nb_model.predict(test_data_rdd.map(lambda x: x.features))\n",
    "print(\"im here\")"
   ]
  },
  {
   "cell_type": "code",
   "execution_count": null,
   "id": "b5d8cec3",
   "metadata": {},
   "outputs": [],
   "source": [
    "labels_and_predictions_rdd = test_data_rdd.map(lambda lp: lp.label).zip(predictions_rdd)\n",
    "print(\"jjj\")\n",
    "metrics = MulticlassMetrics(labels_and_predictions_rdd)\n",
    "print(\"sfsdfs\")\n",
    "accuracy = labels_and_predictions_rdd.filter(lambda lp: lp[0] == lp[1]).count() / float(labels_and_predictions_rdd.count())\n",
    "\n",
    "print(\"Accuracy = {:.2f}%\".format(accuracy * 100))"
   ]
  },
  {
   "cell_type": "code",
   "execution_count": null,
   "id": "398a3b4f",
   "metadata": {},
   "outputs": [],
   "source": []
  }
 ],
 "metadata": {
  "kernelspec": {
   "display_name": "Python 3 (ipykernel)",
   "language": "python",
   "name": "python3"
  },
  "language_info": {
   "codemirror_mode": {
    "name": "ipython",
    "version": 3
   },
   "file_extension": ".py",
   "mimetype": "text/x-python",
   "name": "python",
   "nbconvert_exporter": "python",
   "pygments_lexer": "ipython3",
   "version": "3.10.6"
  }
 },
 "nbformat": 4,
 "nbformat_minor": 5
}
