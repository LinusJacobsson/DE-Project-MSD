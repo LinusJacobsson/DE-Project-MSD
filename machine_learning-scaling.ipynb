{
 "cells": [
  {
   "cell_type": "code",
   "execution_count": 1,
   "id": "2dad9a83",
   "metadata": {},
   "outputs": [],
   "source": [
    "import matplotlib.pyplot as plt\n",
    "from scipy.stats import kurtosis\n",
    "from scipy.stats import skew\n",
    "from sklearn import preprocessing\n",
    "from sklearn.model_selection import train_test_split\n",
    "import seaborn as sns\n",
    "import statsmodels.api as sm\n",
    "from sklearn.model_selection import train_test_split\n",
    "from sklearn.linear_model import LinearRegression\n",
    "from sklearn.feature_selection import VarianceThreshold, SelectKBest, f_classif\n",
    "from numpy import array\n",
    "from numpy import argmax\n",
    "from sklearn.naive_bayes import GaussianNB\n",
    "from sklearn.svm import LinearSVC\n",
    "from sklearn.neighbors import KNeighborsClassifier\n",
    "from sklearn.metrics import accuracy_score"
   ]
  },
  {
   "cell_type": "code",
   "execution_count": 2,
   "id": "1f8e19a7",
   "metadata": {},
   "outputs": [],
   "source": [
    "import pandas as pd\n",
    "from pyspark.ml.feature import VectorAssembler\n",
    "from pyspark.ml.classification import LogisticRegression\n",
    "from pyspark.ml.classification import DecisionTreeClassifier\n",
    "from pyspark.sql import functions as F\n",
    "from pyspark.ml.evaluation import MulticlassClassificationEvaluator\n",
    "from pyspark.ml.classification import NaiveBayes"
   ]
  },
  {
   "cell_type": "code",
   "execution_count": 5,
   "id": "9968a94c",
   "metadata": {},
   "outputs": [],
   "source": [
    "from pyspark.sql import SparkSession \n",
    " \n",
    "spark_session = SparkSession.builder\\\n",
    "        .master(\"spark://host-192-168-2-139:7077\") \\\n",
    "        .appName(\"Scaling test\")\\\n",
    "        .config(\"spark.dynamicAllocation.enabled\", True)\\\n",
    "        .config(\"spark.dynamicAllocation.shuffleTracking.enabled\",True)\\\n",
    "        .config(\"spark.shuffle.service.enabled\", False)\\\n",
    "        .config(\"spark.dynamicAllocation.executorIdleTimeout\",\"30s\")\\\n",
    "        .config(\"spark.cores.max\", 8)\\\n",
    "        .config(\"spark.ui.reverseProxy\", True)\\\n",
    "        .config(\"spark.ui.reverseProxyUrl\", \"http://130.238.28.204:4040/\")\\\n",
    "        .getOrCreate()"
   ]
  },
  {
   "cell_type": "code",
   "execution_count": 19,
   "id": "2ad34bad",
   "metadata": {},
   "outputs": [
    {
     "name": "stdout",
     "output_type": "stream",
     "text": [
      "Running timing for 1partitions\n"
     ]
    },
    {
     "name": "stderr",
     "output_type": "stream",
     "text": [
      "                                                                                \r"
     ]
    },
    {
     "name": "stdout",
     "output_type": "stream",
     "text": [
      "23/03/14 10:40:00 WARN DAGScheduler: Broadcasting large task binary with size 3.0 MiB\n"
     ]
    },
    {
     "name": "stderr",
     "output_type": "stream",
     "text": [
      "                                                                                \r"
     ]
    },
    {
     "name": "stdout",
     "output_type": "stream",
     "text": [
      "23/03/14 10:40:54 WARN DAGScheduler: Broadcasting large task binary with size 3.0 MiB\n"
     ]
    },
    {
     "name": "stderr",
     "output_type": "stream",
     "text": [
      "                                                                                \r"
     ]
    },
    {
     "name": "stdout",
     "output_type": "stream",
     "text": [
      "23/03/14 10:41:47 WARN DAGScheduler: Broadcasting large task binary with size 3.0 MiB\n",
      "23/03/14 10:41:47 WARN DAGScheduler: Broadcasting large task binary with size 3.0 MiB\n",
      "23/03/14 10:41:48 WARN DAGScheduler: Broadcasting large task binary with size 3.0 MiB\n",
      "23/03/14 10:41:48 WARN DAGScheduler: Broadcasting large task binary with size 3.0 MiB\n",
      "23/03/14 10:41:49 WARN DAGScheduler: Broadcasting large task binary with size 3.0 MiB\n",
      "23/03/14 10:41:49 WARN DAGScheduler: Broadcasting large task binary with size 3.0 MiB\n",
      "23/03/14 10:41:50 WARN DAGScheduler: Broadcasting large task binary with size 3.0 MiB\n",
      "23/03/14 10:41:50 WARN DAGScheduler: Broadcasting large task binary with size 3.0 MiB\n",
      "23/03/14 10:41:51 WARN DAGScheduler: Broadcasting large task binary with size 3.0 MiB\n",
      "23/03/14 10:41:53 WARN DAGScheduler: Broadcasting large task binary with size 3.0 MiB\n",
      "23/03/14 10:41:53 WARN DAGScheduler: Broadcasting large task binary with size 3.0 MiB\n",
      "23/03/14 10:43:47 WARN DAGScheduler: Broadcasting large task binary with size 3.6 MiB\n"
     ]
    },
    {
     "name": "stderr",
     "output_type": "stream",
     "text": [
      "                                                                                \r"
     ]
    },
    {
     "name": "stdout",
     "output_type": "stream",
     "text": [
      "0.5794952037553575\n",
      "23/03/14 10:47:24 WARN DAGScheduler: Broadcasting large task binary with size 3.0 MiB\n"
     ]
    },
    {
     "name": "stderr",
     "output_type": "stream",
     "text": [
      "                                                                                \r"
     ]
    },
    {
     "name": "stdout",
     "output_type": "stream",
     "text": [
      "23/03/14 10:49:38 WARN DAGScheduler: Broadcasting large task binary with size 3.0 MiB\n"
     ]
    },
    {
     "name": "stderr",
     "output_type": "stream",
     "text": [
      "                                                                                \r"
     ]
    },
    {
     "name": "stdout",
     "output_type": "stream",
     "text": [
      "23/03/14 10:50:30 WARN DAGScheduler: Broadcasting large task binary with size 3.0 MiB\n"
     ]
    },
    {
     "name": "stderr",
     "output_type": "stream",
     "text": [
      "                                                                                \r"
     ]
    },
    {
     "name": "stdout",
     "output_type": "stream",
     "text": [
      "23/03/14 10:51:22 WARN DAGScheduler: Broadcasting large task binary with size 3.0 MiB\n"
     ]
    },
    {
     "name": "stderr",
     "output_type": "stream",
     "text": [
      "                                                                                \r"
     ]
    },
    {
     "name": "stdout",
     "output_type": "stream",
     "text": [
      "23/03/14 10:52:19 WARN DAGScheduler: Broadcasting large task binary with size 3.3 MiB\n"
     ]
    },
    {
     "name": "stderr",
     "output_type": "stream",
     "text": [
      "                                                                                \r"
     ]
    },
    {
     "name": "stdout",
     "output_type": "stream",
     "text": [
      "23/03/14 10:53:25 WARN DAGScheduler: Broadcasting large task binary with size 3.3 MiB\n"
     ]
    },
    {
     "name": "stderr",
     "output_type": "stream",
     "text": [
      "                                                                                \r"
     ]
    },
    {
     "name": "stdout",
     "output_type": "stream",
     "text": [
      "23/03/14 10:53:29 WARN DAGScheduler: Broadcasting large task binary with size 3.3 MiB\n"
     ]
    },
    {
     "name": "stderr",
     "output_type": "stream",
     "text": [
      "                                                                                \r"
     ]
    },
    {
     "name": "stdout",
     "output_type": "stream",
     "text": [
      "23/03/14 10:53:33 WARN DAGScheduler: Broadcasting large task binary with size 3.3 MiB\n"
     ]
    },
    {
     "name": "stderr",
     "output_type": "stream",
     "text": [
      "                                                                                \r"
     ]
    },
    {
     "name": "stdout",
     "output_type": "stream",
     "text": [
      "23/03/14 10:53:39 WARN DAGScheduler: Broadcasting large task binary with size 3.3 MiB\n"
     ]
    },
    {
     "name": "stderr",
     "output_type": "stream",
     "text": [
      "[Stage 195:>                                                        (0 + 1) / 1]\r"
     ]
    },
    {
     "name": "stdout",
     "output_type": "stream",
     "text": [
      "23/03/14 10:55:08 WARN DAGScheduler: Broadcasting large task binary with size 3.0 MiB\n"
     ]
    },
    {
     "name": "stderr",
     "output_type": "stream",
     "text": [
      "                                                                                \r"
     ]
    },
    {
     "name": "stdout",
     "output_type": "stream",
     "text": [
      "0.5286073882577046\n",
      "23/03/14 10:59:58 WARN DAGScheduler: Broadcasting large task binary with size 3.0 MiB\n"
     ]
    },
    {
     "name": "stderr",
     "output_type": "stream",
     "text": [
      "\r",
      "[Stage 198:>                                                        (0 + 1) / 1]\r"
     ]
    },
    {
     "name": "stdout",
     "output_type": "stream",
     "text": [
      "23/03/14 11:00:51 WARN DAGScheduler: Broadcasting large task binary with size 4.3 MiB\n"
     ]
    },
    {
     "name": "stderr",
     "output_type": "stream",
     "text": [
      "\r",
      "                                                                                \r"
     ]
    },
    {
     "name": "stdout",
     "output_type": "stream",
     "text": [
      "23/03/14 11:02:22 WARN DAGScheduler: Broadcasting large task binary with size 3.3 MiB\n"
     ]
    },
    {
     "name": "stderr",
     "output_type": "stream",
     "text": [
      "\r",
      "[Stage 203:>                                                        (0 + 1) / 1]\r"
     ]
    },
    {
     "name": "stdout",
     "output_type": "stream",
     "text": [
      "0.49765290155792913\n"
     ]
    },
    {
     "name": "stderr",
     "output_type": "stream",
     "text": [
      "\r",
      "                                                                                \r"
     ]
    },
    {
     "ename": "TypeError",
     "evalue": "'builtin_function_or_method' object is not subscriptable",
     "output_type": "error",
     "traceback": [
      "\u001b[0;31m---------------------------------------------------------------------------\u001b[0m",
      "\u001b[0;31mTypeError\u001b[0m                                 Traceback (most recent call last)",
      "Cell \u001b[0;32mIn[19], line 71\u001b[0m\n\u001b[1;32m     69\u001b[0m s_time \u001b[38;5;241m=\u001b[39m time\u001b[38;5;241m.\u001b[39mtime() \u001b[38;5;241m-\u001b[39m start_time\n\u001b[1;32m     70\u001b[0m section_times\u001b[38;5;241m.\u001b[39mappend(s_time)\n\u001b[0;32m---> 71\u001b[0m \u001b[43mtime_collection\u001b[49m\u001b[38;5;241;43m.\u001b[39;49m\u001b[43mappend\u001b[49m\u001b[43m[\u001b[49m\u001b[43msection_times\u001b[49m\u001b[43m]\u001b[49m\n",
      "\u001b[0;31mTypeError\u001b[0m: 'builtin_function_or_method' object is not subscriptable"
     ]
    }
   ],
   "source": [
    "#csv_file = spark_session.read.csv('file:///home/ubuntu/musicdata/')\n",
    "import time\n",
    "time_collection = []\n",
    "for parts in range(1,9):\n",
    "    section_times = []\n",
    "    print(\"Running timing for \" + str(parts) + \"partitions\")\n",
    "    section_times.append(parts)\n",
    "    start_time = time.time()\n",
    "    s_time = time.time() - start_time\n",
    "    \n",
    "    \"\"\" PRE-PROCESSING \"\"\"\n",
    "    csv_file = spark_session.read.csv('file:///home/ubuntu/musicdata/').rdd\n",
    "\n",
    "    csv_file = csv_file.repartition(parts)\n",
    "\n",
    "    csv_file = csv_file.map(lambda x : [float(c) for c in x[1:-1]]).cache().toDF()\n",
    "\n",
    "    labels_file = pd.read_table('file:///home/ubuntu/ML/labels.txt')\n",
    "    labels = labels_file.columns[0]\n",
    "    labels_list = labels.split(',')\n",
    "    labels_list = labels_list[1:-1]\n",
    "    csv_file = csv_file.toDF(*labels_list)\n",
    "    ignore = ['generaid', \"don`t\", \"i`m\", \"can`t\"]\n",
    "    assembler = VectorAssembler(\n",
    "        inputCols=[x for x in csv_file.columns if x not in ignore],\n",
    "        outputCol='features')\n",
    "\n",
    "    data_assembled = assembler.transform(csv_file)\n",
    "    training, test = data_assembled.randomSplit([0.8, 0.2])\n",
    "    \n",
    "    section_times.append(s_time-time.time())\n",
    "    s_time = time.time() - start_time\n",
    "    \n",
    "    \"\"\" LOGISTIC REGRESSION \"\"\"\n",
    "    lr = LogisticRegression(maxIter=10, regParam=0.01, labelCol=\"generaid\")\n",
    "    # print(\"LogisticRegression parameters:\\n\" + lr.explainParams() + \"\\n\")\n",
    "    model1 = lr.fit(training)\n",
    "    lr_pred = model1.transform(test)\n",
    "    lr_evaluator = MulticlassClassificationEvaluator(\n",
    "        labelCol=\"generaid\", predictionCol=\"prediction\", metricName=\"accuracy\")\n",
    "    lr_accuracy = lr_evaluator.evaluate(lr_pred)\n",
    "    print(lr_accuracy)\n",
    "    \n",
    "    section_times.append(s_time-time.time())\n",
    "    s_time = time.time() - start_time\n",
    "\n",
    "    \"\"\" DECISION TREE \"\"\"\n",
    "    tree2 = DecisionTreeClassifier(labelCol=\"generaid\")\n",
    "    tree_model2 = tree2.fit(training)\n",
    "    tree_predictions = tree_model2.transform(test)\n",
    "    evaluator = MulticlassClassificationEvaluator(\n",
    "        labelCol=\"generaid\", predictionCol=\"prediction\", metricName=\"accuracy\")\n",
    "    tree_accuracy = evaluator.evaluate(tree_predictions)\n",
    "    print(tree_accuracy)\n",
    "    \n",
    "    section_times.append(s_time-time.time())\n",
    "    s_time = time.time() - start_time\n",
    "\n",
    "    \"\"\" NAIVE BAYES \"\"\"\n",
    "    nb = NaiveBayes(smoothing=1.0, modelType=\"multinomial\")\n",
    "    bayes_model = nb.fit(training)\n",
    "    bayes_predictions = bayes_model.transform(test)\n",
    "    bayes_evaluator = MulticlassClassificationEvaluator(labelCol=\"generaid\", predictionCol=\"prediction\",\n",
    "                                                  metricName=\"accuracy\")\n",
    "    bayes_accuracy = bayes_evaluator.evaluate(bayes_predictions)\n",
    "    print(bayes_accuracy)\n",
    "    \n",
    "    section_times.append(s_time-time.time())\n",
    "    s_time = time.time() - start_time\n",
    "    section_times.append(s_time)\n",
    "    time_collection.append[section_times]"
   ]
  },
  {
   "cell_type": "code",
   "execution_count": 21,
   "id": "561f0aee",
   "metadata": {},
   "outputs": [
    {
     "name": "stdout",
     "output_type": "stream",
     "text": [
      "[1, -1678790292.9543176, -1678790510.5094132, -1678790863.7607992, -1678790497.6212275, 1672.164003610611]\n"
     ]
    }
   ],
   "source": [
    "print(section_times)"
   ]
  },
  {
   "cell_type": "code",
   "execution_count": 66,
   "id": "075e165d",
   "metadata": {},
   "outputs": [
    {
     "data": {
      "image/png": "[encoded data removed]",
      "text/plain": [
       "<Figure size 500x500 with 1 Axes>"
      ]
     },
     "metadata": {},
     "output_type": "display_data"
    }
   ],
   "source": [
    "plt.figure(figsize=(5, 5))\n",
    "x_input = ['Logistic regression', 'Decision tree', 'Bayes']\n",
    "y_input = [lr_accuracy*100, tree_accuracy*100, bayes_accuracy*100]\n",
    "plt.bar(x_input, y_input)\n",
    "plt.title('Accuracy')\n",
    "plt.ylabel('Percentage', fontsize=12)\n",
    "plt.xlabel('Model', fontsize=12)\n",
    "plt.show()"
   ]
  },
  {
   "cell_type": "code",
   "execution_count": 4,
   "id": "7323483f",
   "metadata": {},
   "outputs": [],
   "source": [
    "spark_session.stop()"
   ]
  },
  {
   "cell_type": "code",
   "execution_count": null,
   "id": "e9151e11",
   "metadata": {},
   "outputs": [],
   "source": []
  }
 ],
 "metadata": {
  "kernelspec": {
   "display_name": "Python 3 (ipykernel)",
   "language": "python",
   "name": "python3"
  },
  "language_info": {
   "codemirror_mode": {
    "name": "ipython",
    "version": 3
   },
   "file_extension": ".py",
   "mimetype": "text/x-python",
   "name": "python",
   "nbconvert_exporter": "python",
   "pygments_lexer": "ipython3",
   "version": "3.10.6"
  }
 },
 "nbformat": 4,
 "nbformat_minor": 5
}
